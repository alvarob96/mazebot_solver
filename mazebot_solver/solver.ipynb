{
 "cells": [
  {
   "cell_type": "code",
   "execution_count": 27,
   "metadata": {
    "colab": {},
    "colab_type": "code",
    "id": "oMXpw3jJWx2y"
   },
   "outputs": [],
   "source": [
    "import requests\n",
    "import copy\n",
    "import json\n",
    "import math\n",
    "from pprint import pprint"
   ]
  },
  {
   "cell_type": "code",
   "execution_count": 28,
   "metadata": {
    "colab": {},
    "colab_type": "code",
    "id": "9Vtt0h0aWbby"
   },
   "outputs": [],
   "source": [
    "class Node(object):\n",
    "  \n",
    "    def __init__(self, parent=None, moves=None, state=None):\n",
    "        self.parent = parent\n",
    "        self.moves = moves\n",
    "        self.state = state\n",
    "\n",
    "        self.function = 0\n",
    "        self.degree = 0\n",
    "        self.heuristic = 0\n",
    "    \n",
    "    def calculate_function(self):\n",
    "        return self.degree * self.heuristic\n",
    "\n",
    "    def __eq__(self, other):\n",
    "        return self.state == other"
   ]
  },
  {
   "cell_type": "code",
   "execution_count": 29,
   "metadata": {
    "colab": {},
    "colab_type": "code",
    "id": "r6i7NsS6X1AK"
   },
   "outputs": [],
   "source": [
    "class Maze(object):\n",
    "  \n",
    "    def __init__(self, start_position, end_position, map_, height, length, endpoint):\n",
    "        self.start_position = start_position[::-1]\n",
    "        self.end_position = end_position[::-1]\n",
    "        self.map_ = map_\n",
    "        self.height = height\n",
    "        self.length = length\n",
    "\n",
    "        self.endpoint = endpoint"
   ]
  },
  {
   "cell_type": "code",
   "execution_count": 120,
   "metadata": {
    "colab": {},
    "colab_type": "code",
    "id": "KeWxqDnvX0LJ"
   },
   "outputs": [],
   "source": [
    "def possible_moves(node, maze):\n",
    "    possible_nodes = list()\n",
    "\n",
    "    current_position = node.moves[-1]\n",
    "\n",
    "    left_x, up_x, right_x, down_x = current_position[0], current_position[0] - 1, current_position[0], current_position[0] + 1\n",
    "    left_y, up_y, right_y, down_y = current_position[1] - 1, current_position[1], current_position[1] + 1, current_position[1]\n",
    "\n",
    "    if up_x >= 0 and up_x < maze.height:\n",
    "        if maze.map_[up_x][up_y] != 'X':\n",
    "            if [up_x, up_y] not in node.moves:\n",
    "                new_moves = copy.deepcopy(node.moves)\n",
    "                new_moves.append([up_x, up_y])\n",
    "\n",
    "                new_node = Node(node, new_moves, node.state + 'N')\n",
    "\n",
    "                new_node.degree = node.degree + 1\n",
    "                new_node.heuristic = euclidean_distance([up_x, up_y], maze.end_position)\n",
    "                # new_node.heuristic = bartolomean_distance([up_x, up_y], maze.end_position, maze)\n",
    "\n",
    "                new_node.function = new_node.calculate_function()\n",
    "\n",
    "                possible_nodes.append(new_node)\n",
    "\n",
    "    if left_y >= 0 and left_y < maze.length:\n",
    "        if maze.map_[left_x][left_y] != 'X':\n",
    "            if [left_x, left_y] not in node.moves:\n",
    "                new_moves = copy.deepcopy(node.moves)\n",
    "                new_moves.append([left_x, left_y])\n",
    "\n",
    "                new_node = Node(node, new_moves, node.state + 'W')\n",
    "\n",
    "                new_node.degree = node.degree + 1\n",
    "                new_node.heuristic = euclidean_distance([left_x, left_y], maze.end_position)\n",
    "                # new_node.heuristic = bartolomean_distance([left_x, left_y], maze.end_position, maze)\n",
    "\n",
    "                new_node.function = new_node.calculate_function()\n",
    "\n",
    "                possible_nodes.append(new_node)\n",
    "\n",
    "    if right_y >= 0 and right_y < maze.length:\n",
    "        if maze.map_[right_x][right_y] != 'X':\n",
    "            if [right_x, right_y] not in node.moves:\n",
    "                new_moves = copy.deepcopy(node.moves)\n",
    "                new_moves.append([right_x, right_y])\n",
    "\n",
    "                new_node = Node(node, new_moves, node.state + 'E')\n",
    "\n",
    "                new_node.degree = node.degree + 1\n",
    "                new_node.heuristic = euclidean_distance([right_x, right_y], maze.end_position)\n",
    "                # new_node.heuristic = bartolomean_distance([right_x, right_y], maze.end_position, maze)\n",
    "\n",
    "                new_node.function = new_node.calculate_function()\n",
    "\n",
    "                possible_nodes.append(new_node)\n",
    "\n",
    "    if down_x >= 0 and down_x < maze.height:\n",
    "        if maze.map_[down_x][down_y] != 'X':\n",
    "            if [down_x, down_y] not in node.moves:\n",
    "                new_moves = copy.deepcopy(node.moves)\n",
    "                new_moves.append([down_x, down_y])\n",
    "\n",
    "                new_node = Node(node, new_moves, node.state + 'S')\n",
    "\n",
    "                new_node.degree = node.degree + 1\n",
    "                new_node.heuristic = euclidean_distance([down_x, down_y], maze.end_position)\n",
    "                # new_node.heuristic = bartolomean_distance([down_x, down_y], maze.end_position, maze)\n",
    "\n",
    "                new_node.function = new_node.calculate_function()\n",
    "\n",
    "                possible_nodes.append(new_node)\n",
    "\n",
    "    return possible_nodes"
   ]
  },
  {
   "cell_type": "code",
   "execution_count": 121,
   "metadata": {},
   "outputs": [],
   "source": [
    "def euclidean_distance(current_position, end_position):\n",
    "    x = end_position[0] - current_position[0]\n",
    "    y = end_position[1] - current_position[1]\n",
    "\n",
    "    return math.sqrt((x*x) + (y*y))"
   ]
  },
  {
   "cell_type": "code",
   "execution_count": 122,
   "metadata": {},
   "outputs": [],
   "source": [
    "def manhattan_distance(current_position, end_position):\n",
    "    x = end_position[0] - current_position[0]\n",
    "    y = end_position[1] - current_position[1]\n",
    "    \n",
    "    return abs(x) + abs(y)"
   ]
  },
  {
   "cell_type": "code",
   "execution_count": 123,
   "metadata": {},
   "outputs": [],
   "source": [
    "def davidean_distance(current_position, end_position):\n",
    "    return 1"
   ]
  },
  {
   "cell_type": "code",
   "execution_count": 124,
   "metadata": {},
   "outputs": [],
   "source": [
    "def bartolomean_distance(current_position, end_position, maze):\n",
    "    visitable_cells = 0\n",
    "    not_visitable_cells = 0\n",
    "    \n",
    "    max_x = max(current_position[0], end_position[0])\n",
    "    min_x = min(current_position[0], end_position[0])\n",
    "    \n",
    "    x_diff = max_x - min_x\n",
    "    \n",
    "    max_y = max(current_position[1], end_position[1])\n",
    "    min_y = min(current_position[1], end_position[1])\n",
    "    \n",
    "    y_diff = max_y - min_y\n",
    "    \n",
    "    if x_diff == 0:\n",
    "        for y in range(min_y, max_y + 1, 1):\n",
    "            if maze.map_[min_x][y] == 'X':\n",
    "                not_visitable_cells += 1\n",
    "            else:\n",
    "                visitable_cells += 1\n",
    "    elif y_diff == 0:\n",
    "        for x in range(min_x, max_x + 1, 1):\n",
    "            if maze.map_[x][min_y] == 'X':\n",
    "                not_visitable_cells += 1\n",
    "            else:\n",
    "                visitable_cells += 1\n",
    "    else:\n",
    "        for x in range(min_x, max_x + 1, 1):\n",
    "            for y in range(min_y, max_y + 1, 1):\n",
    "                if maze.map_[x][y] == 'X':\n",
    "                    not_visitable_cells += 1\n",
    "                else:\n",
    "                    visitable_cells += 1\n",
    "                \n",
    "    return not_visitable_cells/visitable_cells"
   ]
  },
  {
   "cell_type": "code",
   "execution_count": 125,
   "metadata": {
    "colab": {},
    "colab_type": "code",
    "id": "c_SyNyM0eB1D"
   },
   "outputs": [],
   "source": [
    "def calculate_heuristic(current_position, end_position):\n",
    "    x = 0\n",
    "    y = 0\n",
    "\n",
    "    x = end_position[0] - current_position[0]\n",
    "    y = end_position[1] - current_position[1]\n",
    "\n",
    "    return math.sqrt((x*x) + (y*y))"
   ]
  },
  {
   "cell_type": "code",
   "execution_count": 126,
   "metadata": {
    "colab": {},
    "colab_type": "code",
    "id": "MstinbbuH4o-"
   },
   "outputs": [],
   "source": [
    "def a_star(maze):\n",
    "    visited_nodes = list()\n",
    "    visitable_nodes = list()\n",
    "\n",
    "    initial_node = Node(None, [maze.start_position], '')\n",
    "\n",
    "    visitable_nodes.append(initial_node)\n",
    "\n",
    "    while len(visitable_nodes) > 0:\n",
    "        current_node = visitable_nodes[0]\n",
    "\n",
    "        visitable_nodes.remove(current_node)\n",
    "        visited_nodes.append(current_node)\n",
    "\n",
    "        if current_node.moves[-1] == maze.end_position:\n",
    "            return current_node\n",
    "\n",
    "        possible_nodes = possible_moves(current_node, maze)\n",
    "\n",
    "        if possible_nodes:\n",
    "            for possible_node in possible_nodes:\n",
    "                insertion_index = len(visitable_nodes)\n",
    "\n",
    "                for index, node in enumerate(visitable_nodes):\n",
    "                    if possible_node.function < node.function:\n",
    "                        insertion_index = index\n",
    "                        break\n",
    "\n",
    "                visitable_nodes.insert(insertion_index, possible_node)"
   ]
  },
  {
   "cell_type": "code",
   "execution_count": 127,
   "metadata": {
    "colab": {},
    "colab_type": "code",
    "id": "DX2La7RYPH9Q"
   },
   "outputs": [],
   "source": [
    "def post_solution(solution):\n",
    "    url = 'https://api.noopschallenge.com' + maze.endpoint\n",
    "\n",
    "    data = {\n",
    "      \"directions\": result.state\n",
    "    }\n",
    "\n",
    "    final = requests.post(url, json.dumps(data))\n",
    "\n",
    "    return final.elapsed"
   ]
  },
  {
   "cell_type": "code",
   "execution_count": 138,
   "metadata": {},
   "outputs": [],
   "source": [
    "def solve():\n",
    "    req = requests.get(\"https://api.noopschallenge.com/mazebot/random?minSize=80&maxSize=80\")\n",
    "\n",
    "    response = json.loads(req.text)\n",
    "\n",
    "    maze = Maze(response['startingPosition'], response['endingPosition'], response['map'], len(response['map']), len(response['map'][0]), response['mazePath'])\n",
    "\n",
    "    %time result = a_star(maze)\n",
    "    \n",
    "    elpased_time = post_solution(result.state)\n",
    "\n",
    "    return elpased_time.total_seconds()"
   ]
  },
  {
   "cell_type": "code",
   "execution_count": 139,
   "metadata": {},
   "outputs": [],
   "source": [
    "bartolomean_heuristic = list()\n",
    "euclidean_heuristic = list()\n",
    "manhattan_heuristic = list()"
   ]
  },
  {
   "cell_type": "code",
   "execution_count": null,
   "metadata": {},
   "outputs": [
    {
     "name": "stdout",
     "output_type": "stream",
     "text": [
      "CPU times: user 16.6 s, sys: 364 ms, total: 16.9 s\n",
      "Wall time: 17.8 s\n"
     ]
    },
    {
     "name": "stderr",
     "output_type": "stream",
     "text": [
      "\n",
      "KeyboardInterrupt\n",
      "\n"
     ]
    }
   ],
   "source": [
    "for _ in range(10):\n",
    "    resulting_time = solve()\n",
    "    \n",
    "    euclidean_heuristic.append(resulting_time)"
   ]
  },
  {
   "cell_type": "code",
   "execution_count": 132,
   "metadata": {},
   "outputs": [
    {
     "data": {
      "image/png": "[encoded data removed]",
      "text/plain": [
       "<Figure size 432x288 with 1 Axes>"
      ]
     },
     "metadata": {
      "needs_background": "light"
     },
     "output_type": "display_data"
    }
   ],
   "source": [
    "import matplotlib.pyplot as plt\n",
    "\n",
    "plt.plot(bartolomean_heuristic, color='black')\n",
    "plt.plot(manhattan_heursitic, color='orange')\n",
    "plt.plot(euclidean_heuristic, color='green')\n",
    "plt.show()"
   ]
  },
  {
   "cell_type": "code",
   "execution_count": 80,
   "metadata": {
    "colab": {
     "base_uri": "https://localhost:8080/",
     "height": 69
    },
    "colab_type": "code",
    "executionInfo": {
     "elapsed": 40749,
     "status": "ok",
     "timestamp": 1561896569552,
     "user": {
      "displayName": "ÁLVARO BARTOLOMÉ DEL CANTO",
      "photoUrl": "",
      "userId": "02147045156205954832"
     },
     "user_tz": -120
    },
    "id": "BK2qHlOfMmU-",
    "outputId": "80182875-bf43-4c97-d577-7a22ba28ada2"
   },
   "outputs": [
    {
     "name": "stdout",
     "output_type": "stream",
     "text": [
      "CPU times: user 359 ms, sys: 5.84 ms, total: 365 ms\n",
      "Wall time: 368 ms\n",
      "{\"result\":\"success\",\"message\":\"You solved it in 0.887 seconds with 93 steps, the shortest possible solution.\",\"shortestSolutionLength\":93,\"yourSolutionLength\":93,\"elapsed\":887}\n"
     ]
    }
   ],
   "source": [
    "req = requests.get(\"https://api.noopschallenge.com/mazebot/random?minSize=20&maxSize=20\")\n",
    "\n",
    "response = json.loads(req.text)\n",
    "\n",
    "maze = Maze(response['startingPosition'], response['endingPosition'], response['map'], len(response['map']), len(response['map'][0]), response['mazePath'])\n",
    "\n",
    "%time result = a_star(maze)\n",
    "\n",
    "post_solution(result)"
   ]
  },
  {
   "cell_type": "code",
   "execution_count": 77,
   "metadata": {
    "colab": {
     "base_uri": "https://localhost:8080/",
     "height": 34
    },
    "colab_type": "code",
    "executionInfo": {
     "elapsed": 621,
     "status": "ok",
     "timestamp": 1561896649247,
     "user": {
      "displayName": "ÁLVARO BARTOLOMÉ DEL CANTO",
      "photoUrl": "",
      "userId": "02147045156205954832"
     },
     "user_tz": -120
    },
    "id": "PYQyGp-JRygT",
    "outputId": "77acf6f2-5994-4bf3-f82e-685a9df28d99"
   },
   "outputs": [
    {
     "name": "stdout",
     "output_type": "stream",
     "text": [
      "10 10\n"
     ]
    }
   ],
   "source": [
    "print(maze.height, maze.length)"
   ]
  },
  {
   "cell_type": "code",
   "execution_count": 0,
   "metadata": {
    "colab": {},
    "colab_type": "code",
    "id": "WUb6vG80SuHp"
   },
   "outputs": [],
   "source": []
  }
 ],
 "metadata": {
  "colab": {
   "collapsed_sections": [],
   "name": "maze.ipynb",
   "provenance": [],
   "version": "0.3.2"
  },
  "kernelspec": {
   "display_name": "Python 3",
   "language": "python",
   "name": "python3"
  },
  "language_info": {
   "codemirror_mode": {
    "name": "ipython",
    "version": 3
   },
   "file_extension": ".py",
   "mimetype": "text/x-python",
   "name": "python",
   "nbconvert_exporter": "python",
   "pygments_lexer": "ipython3",
   "version": "3.7.1"
  }
 },
 "nbformat": 4,
 "nbformat_minor": 1
}
