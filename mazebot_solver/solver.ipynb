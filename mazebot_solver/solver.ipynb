{
 "cells": [
  {
   "cell_type": "code",
   "execution_count": 7,
   "metadata": {
    "colab": {},
    "colab_type": "code",
    "id": "oMXpw3jJWx2y"
   },
   "outputs": [],
   "source": [
    "import requests\n",
    "import copy\n",
    "import json\n",
    "import math\n",
    "from pprint import pprint"
   ]
  },
  {
   "cell_type": "code",
   "execution_count": 2,
   "metadata": {
    "colab": {},
    "colab_type": "code",
    "id": "9Vtt0h0aWbby"
   },
   "outputs": [],
   "source": [
    "class Node(object):\n",
    "  \n",
    "    def __init__(self, parent=None, moves=None, state=None):\n",
    "        self.parent = parent\n",
    "        self.moves = moves\n",
    "        self.state = state\n",
    "\n",
    "        self.function = 0\n",
    "        self.degree = 0\n",
    "        self.heuristic = 0\n",
    "    \n",
    "    def calculate_function(self):\n",
    "        return self.degree * self.heuristic\n",
    "\n",
    "    def __eq__(self, other):\n",
    "        return self.state == other"
   ]
  },
  {
   "cell_type": "code",
   "execution_count": 3,
   "metadata": {
    "colab": {},
    "colab_type": "code",
    "id": "r6i7NsS6X1AK"
   },
   "outputs": [],
   "source": [
    "class Maze(object):\n",
    "  \n",
    "    def __init__(self, start_position, end_position, map_, height, length, endpoint):\n",
    "        self.start_position = start_position[::-1]\n",
    "        self.end_position = end_position[::-1]\n",
    "        self.map_ = map_\n",
    "        self.height = height\n",
    "        self.length = length\n",
    "\n",
    "        self.endpoint = endpoint"
   ]
  },
  {
   "cell_type": "code",
   "execution_count": 4,
   "metadata": {
    "colab": {},
    "colab_type": "code",
    "id": "KeWxqDnvX0LJ"
   },
   "outputs": [],
   "source": [
    "def possible_moves(node, maze):\n",
    "    possible_nodes = list()\n",
    "\n",
    "    current_position = node.moves[-1]\n",
    "\n",
    "    left_x, up_x, right_x, down_x = current_position[0], current_position[0] - 1, current_position[0], current_position[0] + 1\n",
    "    left_y, up_y, right_y, down_y = current_position[1] - 1, current_position[1], current_position[1] + 1, current_position[1]\n",
    "\n",
    "    if up_x >= 0 and up_x < maze.height:\n",
    "        if maze.map_[up_x][up_y] != 'X':\n",
    "            if [up_x, up_y] not in node.moves:\n",
    "                new_moves = copy.deepcopy(node.moves)\n",
    "                new_moves.append([up_x, up_y])\n",
    "\n",
    "                new_node = Node(node, new_moves, node.state + 'N')\n",
    "\n",
    "                new_node.degree = node.degree + 1\n",
    "                new_node.heuristic = calculate_heuristic([up_x, up_y], maze.end_position)\n",
    "\n",
    "                new_node.function = new_node.calculate_function()\n",
    "\n",
    "                possible_nodes.append(new_node)\n",
    "\n",
    "    if left_y >= 0 and left_y < maze.length:\n",
    "        if maze.map_[left_x][left_y] != 'X':\n",
    "            if [left_x, left_y] not in node.moves:\n",
    "                new_moves = copy.deepcopy(node.moves)\n",
    "                new_moves.append([left_x, left_y])\n",
    "\n",
    "                new_node = Node(node, new_moves, node.state + 'W')\n",
    "\n",
    "                new_node.degree = node.degree + 1\n",
    "                new_node.heuristic = calculate_heuristic([left_x, left_y], maze.end_position)\n",
    "\n",
    "                new_node.function = new_node.calculate_function()\n",
    "\n",
    "                possible_nodes.append(new_node)\n",
    "\n",
    "    if right_y >= 0 and right_y < maze.length:\n",
    "        if maze.map_[right_x][right_y] != 'X':\n",
    "            if [right_x, right_y] not in node.moves:\n",
    "                new_moves = copy.deepcopy(node.moves)\n",
    "                new_moves.append([right_x, right_y])\n",
    "\n",
    "                new_node = Node(node, new_moves, node.state + 'E')\n",
    "\n",
    "                new_node.degree = node.degree + 1\n",
    "                new_node.heuristic = calculate_heuristic([right_x, right_y], maze.end_position)\n",
    "\n",
    "                new_node.function = new_node.calculate_function()\n",
    "\n",
    "                possible_nodes.append(new_node)\n",
    "\n",
    "    if down_x >= 0 and down_x < maze.height:\n",
    "        if maze.map_[down_x][down_y] != 'X':\n",
    "            if [down_x, down_y] not in node.moves:\n",
    "                new_moves = copy.deepcopy(node.moves)\n",
    "                new_moves.append([down_x, down_y])\n",
    "\n",
    "                new_node = Node(node, new_moves, node.state + 'S')\n",
    "\n",
    "                new_node.degree = node.degree + 1\n",
    "                new_node.heuristic = calculate_heuristic([down_x, down_y], maze.end_position)\n",
    "\n",
    "                new_node.function = new_node.calculate_function()\n",
    "\n",
    "                possible_nodes.append(new_node)\n",
    "\n",
    "    return possible_nodes"
   ]
  },
  {
   "cell_type": "code",
   "execution_count": 8,
   "metadata": {
    "colab": {},
    "colab_type": "code",
    "id": "c_SyNyM0eB1D"
   },
   "outputs": [],
   "source": [
    "def calculate_heuristic(current_position, end_position):\n",
    "    x = 0\n",
    "    y = 0\n",
    "\n",
    "    x = end_position[0] - current_position[0]\n",
    "    y = end_position[1] - current_position[1]\n",
    "\n",
    "    return math.sqrt((x*x) + (y*y))"
   ]
  },
  {
   "cell_type": "code",
   "execution_count": 12,
   "metadata": {
    "colab": {},
    "colab_type": "code",
    "id": "MstinbbuH4o-"
   },
   "outputs": [],
   "source": [
    "def a_star(maze):\n",
    "    visited_nodes = list()\n",
    "    visitable_nodes = list()\n",
    "\n",
    "    initial_node = Node(None, [maze.start_position], '')\n",
    "\n",
    "    visitable_nodes.append(initial_node)\n",
    "\n",
    "    while len(visitable_nodes) > 0:\n",
    "        current_node = visitable_nodes[0]\n",
    "\n",
    "        visitable_nodes.remove(current_node)\n",
    "        visited_nodes.append(current_node)\n",
    "\n",
    "        if current_node.moves[-1] == maze.end_position:\n",
    "            return current_node\n",
    "\n",
    "        possible_nodes = possible_moves(current_node, maze)\n",
    "\n",
    "        if possible_nodes:\n",
    "            for possible_node in possible_nodes:\n",
    "                insertion_index = len(visitable_nodes)\n",
    "\n",
    "                for index, node in enumerate(visitable_nodes):\n",
    "                    if possible_node.function < node.function:\n",
    "                        insertion_index = index\n",
    "                        break\n",
    "\n",
    "                visitable_nodes.insert(insertion_index, possible_node)"
   ]
  },
  {
   "cell_type": "code",
   "execution_count": 13,
   "metadata": {
    "colab": {},
    "colab_type": "code",
    "id": "DX2La7RYPH9Q"
   },
   "outputs": [],
   "source": [
    "def post_solution(solution):\n",
    "    url = 'https://api.noopschallenge.com' + maze.endpoint\n",
    "\n",
    "    data = {\n",
    "      \"directions\": result.state\n",
    "    }\n",
    "\n",
    "    final = requests.post(url, json.dumps(data))\n",
    "\n",
    "    pprint(final.text)"
   ]
  },
  {
   "cell_type": "code",
   "execution_count": 17,
   "metadata": {
    "colab": {
     "base_uri": "https://localhost:8080/",
     "height": 69
    },
    "colab_type": "code",
    "executionInfo": {
     "elapsed": 40749,
     "status": "ok",
     "timestamp": 1561896569552,
     "user": {
      "displayName": "ÁLVARO BARTOLOMÉ DEL CANTO",
      "photoUrl": "",
      "userId": "02147045156205954832"
     },
     "user_tz": -120
    },
    "id": "BK2qHlOfMmU-",
    "outputId": "80182875-bf43-4c97-d577-7a22ba28ada2"
   },
   "outputs": [
    {
     "name": "stdout",
     "output_type": "stream",
     "text": [
      "('{\"result\":\"success\",\"message\":\"You solved it in 0.813 seconds with 32 steps, '\n",
      " 'the shortest possible '\n",
      " 'solution.\",\"shortestSolutionLength\":32,\"yourSolutionLength\":32,\"elapsed\":813}')\n"
     ]
    }
   ],
   "source": [
    "req = requests.get(\"https://api.noopschallenge.com/mazebot/random?minSize=10&maxSize=20\")\n",
    "\n",
    "response = json.loads(req.text)\n",
    "\n",
    "maze = Maze(response['startingPosition'], response['endingPosition'], response['map'], len(response['map']), len(response['map'][0]), response['mazePath'])\n",
    "\n",
    "result = a_star(maze)\n",
    "\n",
    "post_solution(result)"
   ]
  },
  {
   "cell_type": "code",
   "execution_count": 18,
   "metadata": {
    "colab": {
     "base_uri": "https://localhost:8080/",
     "height": 34
    },
    "colab_type": "code",
    "executionInfo": {
     "elapsed": 621,
     "status": "ok",
     "timestamp": 1561896649247,
     "user": {
      "displayName": "ÁLVARO BARTOLOMÉ DEL CANTO",
      "photoUrl": "",
      "userId": "02147045156205954832"
     },
     "user_tz": -120
    },
    "id": "PYQyGp-JRygT",
    "outputId": "77acf6f2-5994-4bf3-f82e-685a9df28d99"
   },
   "outputs": [
    {
     "name": "stdout",
     "output_type": "stream",
     "text": [
      "10 10\n"
     ]
    }
   ],
   "source": [
    "print(maze.height, maze.length)"
   ]
  },
  {
   "cell_type": "code",
   "execution_count": 0,
   "metadata": {
    "colab": {},
    "colab_type": "code",
    "id": "WUb6vG80SuHp"
   },
   "outputs": [],
   "source": []
  }
 ],
 "metadata": {
  "colab": {
   "collapsed_sections": [],
   "name": "maze.ipynb",
   "provenance": [],
   "version": "0.3.2"
  },
  "kernelspec": {
   "display_name": "Python 3",
   "language": "python",
   "name": "python3"
  },
  "language_info": {
   "codemirror_mode": {
    "name": "ipython",
    "version": 3
   },
   "file_extension": ".py",
   "mimetype": "text/x-python",
   "name": "python",
   "nbconvert_exporter": "python",
   "pygments_lexer": "ipython3",
   "version": "3.7.0"
  }
 },
 "nbformat": 4,
 "nbformat_minor": 1
}
